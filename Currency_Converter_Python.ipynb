{
 "cells": [
  {
   "cell_type": "code",
   "execution_count": 1,
   "id": "2d1b38ee",
   "metadata": {},
   "outputs": [
    {
     "name": "stdout",
     "output_type": "stream",
     "text": [
      "Enter the base currency: usd\n",
      "Enter the target currency: inr\n",
      "Enter the amount to convert: 2\n",
      "2.0 USD = 166.80 INR.\n"
     ]
    }
   ],
   "source": [
    "import requests\n",
    "\n",
    "def get_currency_conversion_rate(base_currency, target_currency,amount):\n",
    "    url = \"https://v6.exchangerate-api.com/v6/2e24ee5eec9a35ef508b9f15/latest/\"\n",
    "    response = requests.get(f\"{url}{base_currency}\")\n",
    "    data = response.json()\n",
    "    conversion_rate = data[\"conversion_rates\"].get(target_currency)\n",
    "    if conversion_rate:\n",
    "        converted_amount = amount * conversion_rate\n",
    "        print(f\"{amount} {base_currency} = {converted_amount:.2f} {target_currency}.\")\n",
    "    else:\n",
    "         print(f\"Conversion rate from {base_currency} to {target_currency} not available\")\n",
    "\n",
    "base_currency = input(\"Enter the base currency: \").upper()\n",
    "target_currency = input(\"Enter the target currency: \").upper()\n",
    "amount = float(input(\"Enter the amount to convert: \"))\n",
    "get_currency_conversion_rate(base_currency, target_currency,amount)\n",
    "\n"
   ]
  },
  {
   "cell_type": "code",
   "execution_count": null,
   "id": "ae8e229c",
   "metadata": {},
   "outputs": [],
   "source": []
  },
  {
   "cell_type": "code",
   "execution_count": null,
   "id": "2b35b9a8",
   "metadata": {},
   "outputs": [],
   "source": []
  }
 ],
 "metadata": {
  "kernelspec": {
   "display_name": "Python 3 (ipykernel)",
   "language": "python",
   "name": "python3"
  },
  "language_info": {
   "codemirror_mode": {
    "name": "ipython",
    "version": 3
   },
   "file_extension": ".py",
   "mimetype": "text/x-python",
   "name": "python",
   "nbconvert_exporter": "python",
   "pygments_lexer": "ipython3",
   "version": "3.11.5"
  }
 },
 "nbformat": 4,
 "nbformat_minor": 5
}
