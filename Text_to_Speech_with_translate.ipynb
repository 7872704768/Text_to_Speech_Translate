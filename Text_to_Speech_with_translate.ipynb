{
 "cells": [
  {
   "cell_type": "code",
   "execution_count": 1,
   "id": "a4be8299",
   "metadata": {},
   "outputs": [
    {
     "name": "stdout",
     "output_type": "stream",
     "text": [
      "Defaulting to user installation because normal site-packages is not writeable\n",
      "Requirement already satisfied: deep-translator in c:\\users\\syeda\\appdata\\roaming\\python\\python311\\site-packages (1.11.4)\n",
      "Requirement already satisfied: gtts in c:\\users\\syeda\\appdata\\roaming\\python\\python311\\site-packages (2.5.1)\n",
      "Requirement already satisfied: beautifulsoup4<5.0.0,>=4.9.1 in f:\\jyputer\\lib\\site-packages (from deep-translator) (4.12.2)\n",
      "Requirement already satisfied: requests<3.0.0,>=2.23.0 in f:\\jyputer\\lib\\site-packages (from deep-translator) (2.31.0)\n",
      "Requirement already satisfied: click<8.2,>=7.1 in f:\\jyputer\\lib\\site-packages (from gtts) (8.0.4)\n",
      "Requirement already satisfied: soupsieve>1.2 in f:\\jyputer\\lib\\site-packages (from beautifulsoup4<5.0.0,>=4.9.1->deep-translator) (2.4)\n",
      "Requirement already satisfied: colorama in f:\\jyputer\\lib\\site-packages (from click<8.2,>=7.1->gtts) (0.4.6)\n",
      "Requirement already satisfied: charset-normalizer<4,>=2 in f:\\jyputer\\lib\\site-packages (from requests<3.0.0,>=2.23.0->deep-translator) (2.0.4)\n",
      "Requirement already satisfied: idna<4,>=2.5 in c:\\users\\syeda\\appdata\\roaming\\python\\python311\\site-packages (from requests<3.0.0,>=2.23.0->deep-translator) (2.10)\n",
      "Requirement already satisfied: urllib3<3,>=1.21.1 in f:\\jyputer\\lib\\site-packages (from requests<3.0.0,>=2.23.0->deep-translator) (1.26.16)\n",
      "Requirement already satisfied: certifi>=2017.4.17 in f:\\jyputer\\lib\\site-packages (from requests<3.0.0,>=2.23.0->deep-translator) (2023.7.22)\n"
     ]
    }
   ],
   "source": [
    "!pip install deep-translator gtts"
   ]
  },
  {
   "cell_type": "code",
   "execution_count": 3,
   "id": "f1ef3e4d",
   "metadata": {},
   "outputs": [
    {
     "name": "stdout",
     "output_type": "stream",
     "text": [
      "Enter the text to translate: Hello! How are you sir?\n",
      "Enter the target languages separated by commas (e.g., fr,es,de): hi,bn,mr\n",
      "hi: नमस्ते! कैसे हो जनाब?\n",
      "bn: হ্যালো! আপনি কেমন আছেন জনাব?\n",
      "mr: नमस्कार! कसे आहात सर ?\n"
     ]
    }
   ],
   "source": [
    "from deep_translator import GoogleTranslator\n",
    "from gtts import gTTS\n",
    "import os\n",
    "\n",
    "def translate_text(text_to_translate, languages='en'):\n",
    "    for target_language in languages:\n",
    "        Translator = GoogleTranslator(source='auto', target=target_language)\n",
    "        translated_text = Translator.translate(text_to_translate)\n",
    "        print(f\"{target_language}: {translated_text}\")\n",
    "        tts = gTTS(text=translated_text, lang=target_language, slow=False)\n",
    "        tts.save(\"audios.mp3\")\n",
    "        os.system(\"start audios.mp3\")\n",
    "\n",
    "text_to_translate = input(\"Enter the text to translate: \")\n",
    "target_languages = input(\"Enter the target languages separated by commas (e.g., fr,es,de): \").split(',')\n",
    "translate_text(text_to_translate, target_languages)\n"
   ]
  },
  {
   "cell_type": "code",
   "execution_count": null,
   "id": "d9794712",
   "metadata": {},
   "outputs": [],
   "source": []
  }
 ],
 "metadata": {
  "kernelspec": {
   "display_name": "Python 3 (ipykernel)",
   "language": "python",
   "name": "python3"
  },
  "language_info": {
   "codemirror_mode": {
    "name": "ipython",
    "version": 3
   },
   "file_extension": ".py",
   "mimetype": "text/x-python",
   "name": "python",
   "nbconvert_exporter": "python",
   "pygments_lexer": "ipython3",
   "version": "3.11.5"
  }
 },
 "nbformat": 4,
 "nbformat_minor": 5
}
